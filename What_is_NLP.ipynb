{
  "nbformat": 4,
  "nbformat_minor": 0,
  "metadata": {
    "colab": {
      "provenance": [],
      "authorship_tag": "ABX9TyM0P80bgoAXfhveVC3BNDHH",
      "include_colab_link": true
    },
    "kernelspec": {
      "name": "python3",
      "display_name": "Python 3"
    },
    "language_info": {
      "name": "python"
    }
  },
  "cells": [
    {
      "cell_type": "markdown",
      "metadata": {
        "id": "view-in-github",
        "colab_type": "text"
      },
      "source": [
        "<a href=\"https://colab.research.google.com/github/harshkumar999/NLP/blob/main/What_is_NLP.ipynb\" target=\"_parent\"><img src=\"https://colab.research.google.com/assets/colab-badge.svg\" alt=\"Open In Colab\"/></a>"
      ]
    },
    {
      "cell_type": "markdown",
      "source": [
        "# **Natural Language Processing (NLP)**\n",
        "\n",
        "**NLP** is a part of Artificial Intelligence that helps computers to understand and to work with human language in the form of text or speech."
      ],
      "metadata": {
        "id": "4g6r9F74rQBh"
      }
    },
    {
      "cell_type": "markdown",
      "source": [
        "NLP has two components:\n",
        "\n",
        "> 1. **NLU** (Natural Language Understanding)\n",
        "> 2. **NLG** (Natural Language Generation)"
      ],
      "metadata": {
        "id": "WyvQPmQ9rCgU"
      }
    },
    {
      "cell_type": "markdown",
      "source": [
        "**Corpus** is a collection of text documents."
      ],
      "metadata": {
        "id": "VQNEnxrctVEh"
      }
    },
    {
      "cell_type": "markdown",
      "source": [
        "# **NLP Applications**\n",
        "\n",
        "- **Product Insights**: Mining consumer reviews can reveal insights like the most loved feature, the most hated feature, improvements required, and reviews of competitors's products.\n",
        "\n",
        "- **Security monitoring**: NLP helps in monitoring and extracting information from news articles and reports for national security purposes.\n",
        "\n",
        "- **Pattern Identification**: Extract features like telephone numbers, email addresses, and other specific patterns from text using pattern matching.\n",
        "\n",
        "- **Document Clustering**: Group similar documents into meaningful categories (e.g., news sections).\n",
        "\n",
        "- **Spam Filtering**: Automatically detect and filter out spam emails.\n",
        "\n",
        "- **Speech Recognition**: Convert spoken language into text and vice-versa.\n",
        "\n",
        "- **E-commerce Personalization**: Recommend products based on user preferences.\n",
        "\n",
        "- **Sentiment Analysis**: Determine the sentiment (positive, negative, neutral) of text.\n",
        "\n",
        "- **Text Summarization**: Creates short summaries of long documents.\n",
        "\n",
        "- **Topic Modeling**: Finding the most relevant documents based on a topic.\n",
        "\n",
        "- **Text Generation**: Write new text automatically.\n",
        "\n",
        "- **Compliance and Risk Management**: Check if documents follow rules and manage risks.\n",
        "\n",
        "- **Entity Extraction**: Find important names or places in text.\n",
        "\n",
        "- **Synthetic Data Generation**: Create fake data that looks real.\n",
        "\n",
        "- **Intelligent Chatbots**: Build chatbots that can talk and help customers.\n",
        "\n"
      ],
      "metadata": {
        "id": "PSuiTjbzxL3t"
      }
    },
    {
      "cell_type": "markdown",
      "source": [
        "# **NLP Levels**\n",
        "\n",
        "## 1. **Lexical Analysis**: Tokenizing the Text\n",
        "\n",
        "Lexical analysis breaks text into individual tokens (words).\n",
        "\n",
        "**Example:**\n",
        "\n",
        "> Sentence : \"The dog barked loudly.\"  \n",
        "> Output: `[\"The\", \"dog\", \"barked\", \"loudly\"]`\n",
        "\n",
        "## 2. **Syntactic Analysis**: Analyzing Sentence Structure\n",
        "\n",
        "Syntactic analysis identifies the structure and parts of speech (grammar) in the sentence.\n",
        "\n",
        "**Example:**\n",
        "\n",
        "> Sentence : \"The dog barked loudly.\"\n",
        "\n",
        "| Word   | Part of Speech |\n",
        "|--------|----------------|\n",
        "| The    | Article        |\n",
        "| dog    | Noun           |\n",
        "| barked | Verb           |\n",
        "| loudly | Adverb         |\n",
        "\n",
        "Sentence structure: Subject + Verb + Adverb\n",
        "\n",
        "    \n",
        "## 3. **Semantic Analysis** : Understanding Meaning\n",
        "\n",
        "Semantic Analysis understands the meaning or context of the sentence.\n",
        "\n",
        "**Example**:\n",
        "\n",
        "> **Sentence** : \"The dog barked loudly.\"  \n",
        "> **Meaning**: The dog made a loud noise.\n",
        "\n",
        "\n",
        "## 4. **Discourse Integration** : Contextual Understanding\n",
        "\n",
        "Discourse integration relates a sentence to the context of the entire paragraph or conversation.\n",
        "\n",
        "**Example**:\n",
        "\n",
        "> \"Shelly went to the store. She bought some milk.\"  \n",
        "> The second sentence makes sense because it is understood that \"She\" refers to Shelly from the first sentence.\n",
        "\n",
        "## 5. **Pragmatic Analysis**: Identifying Intent\n",
        "\n",
        "Pragmatic analysis identifies the intent or purpose behind the text or speech.\n",
        "\n",
        "**Example**:\n",
        "\n",
        "> \"Could you help me with this task?\"  \n",
        "> **Intent**: The speaker is politely requesting assistance.\n",
        "\n"
      ],
      "metadata": {
        "id": "8THDFqm3KnRC"
      }
    },
    {
      "cell_type": "markdown",
      "source": [
        "**Document** is a collection of texts."
      ],
      "metadata": {
        "id": "_Rqbq2faBVbn"
      }
    },
    {
      "cell_type": "markdown",
      "source": [
        "# **NLU**\n",
        "\n",
        "**NLU** focuses on analyzing and understanding human language. It handles tasks that involve interpreting meaning, structure, and context.\n",
        "\n",
        "**Analysis Tasks** include\n",
        "\n",
        "`Semantic tasks`\n",
        "> Named Entity Recognition (NER) :  Identifies names of people, places, organizations, etc., in text.\n",
        "\n",
        "> Text classification : Categorizes text into predefined categories (e.g., spam vs. not spam).\n",
        "\n",
        "> Sentiment analysis\n",
        "\n",
        "> Topic modeling\n",
        "\n",
        "> Similarity/relatedness between words or texts\n",
        "\n",
        "`Syntactic tasks`\n",
        "\n",
        "> Part-of-speech Tagging: Identifies the grammatical role of each word (e.g., noun, verb).\n",
        "\n",
        "> Chunking: Groups words into meaningful units (e.g., noun phrases).\n",
        "\n",
        "> Dependency Parsing: Analyzes how words in a sentence are grammatically related to each other.\n",
        "\n",
        "**NLU Applications**\n",
        "\n",
        "- Document Classification: Classify documents into categories, e.g., Emails (spam or not), Movie reviews (positive or negative), Legal papers (relevant or not).\n",
        "- Topic Modeling: Finds documents related to specific topics.\n",
        "- Document Recommendation: Suggests relevant documents based on topics or keywords."
      ],
      "metadata": {
        "id": "86IO1I_qqMMq"
      }
    },
    {
      "cell_type": "markdown",
      "source": [
        "# **NLG**\n",
        "\n",
        "**NLG** focuses on generating human language, either in text or speech form. It involves creating meaningful and logical responses based on data.\n",
        "\n",
        "`Generation Tasks` include:\n",
        "\n",
        "> Question/Answering (e.g., chatbots)\n",
        "\n",
        "> Text Generation (e.g., generating new text or predicting the next word)\n",
        "\n",
        "> Machine Translation (e.g., translating text from one language to another)\n",
        "\n",
        "\n",
        "**NLG Applications**\n",
        "\n",
        "- Image Captioning: Generates captions for images.\n",
        "\n",
        "- Text Summarization: Creates short summaries of long documents.\n",
        "\n",
        "- Machine Translation: Translates text from one language to another, using methods like: GNMT (Google Neural Machine Translation) and PBMT (Phrase-Based Machine Translation)\n",
        "\n",
        "- Question/Answering Chatbots: Provides real-time answers to user questions.\n",
        "\n"
      ],
      "metadata": {
        "id": "tObxR0Yi4iU-"
      }
    },
    {
      "cell_type": "code",
      "execution_count": null,
      "metadata": {
        "id": "yOsdmBEymq76"
      },
      "outputs": [],
      "source": []
    }
  ]
}